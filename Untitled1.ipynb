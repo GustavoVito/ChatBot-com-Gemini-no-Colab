{
  "nbformat": 4,
  "nbformat_minor": 0,
  "metadata": {
    "colab": {
      "provenance": [],
      "authorship_tag": "ABX9TyOh/RHQ1I9wTWeTmiyA082v",
      "include_colab_link": true
    },
    "kernelspec": {
      "name": "python3",
      "display_name": "Python 3"
    },
    "language_info": {
      "name": "python"
    }
  },
  "cells": [
    {
      "cell_type": "markdown",
      "metadata": {
        "id": "view-in-github",
        "colab_type": "text"
      },
      "source": [
        "<a href=\"https://colab.research.google.com/github/GustavoVito/ChatBot-com-Gemini-no-Colab/blob/main/Untitled1.ipynb\" target=\"_parent\"><img src=\"https://colab.research.google.com/assets/colab-badge.svg\" alt=\"Open In Colab\"/></a>"
      ]
    },
    {
      "cell_type": "markdown",
      "source": [
        "Instalando o SDK do Google"
      ],
      "metadata": {
        "id": "4OFl-XRUBA4I"
      }
    },
    {
      "cell_type": "code",
      "execution_count": null,
      "metadata": {
        "id": "J6Pd9SFJ1yVi"
      },
      "outputs": [],
      "source": [
        "!pip install -q -U google-generativeai"
      ]
    },
    {
      "cell_type": "markdown",
      "source": [
        "Importando a API Key"
      ],
      "metadata": {
        "id": "0c90pkhNBeBn"
      }
    },
    {
      "cell_type": "code",
      "source": [
        "# Import the Python SDK\n",
        "import google.generativeai as genai\n",
        "\n",
        "GOOGLE_API_KEY='COLE SUA API KEY'\n",
        "genai.configure(api_key=GOOGLE_API_KEY)"
      ],
      "metadata": {
        "id": "wyfeZvGtBi2X"
      },
      "execution_count": null,
      "outputs": []
    },
    {
      "cell_type": "markdown",
      "source": [
        "Listar os modelos disponíveis"
      ],
      "metadata": {
        "id": "9tWxaBsmBow-"
      }
    },
    {
      "cell_type": "code",
      "source": [
        "for m in genai.list_models():\n",
        "  if 'generateContent' in m.supported_generation_methods:\n",
        "    print(m.name)"
      ],
      "metadata": {
        "colab": {
          "base_uri": "https://localhost:8080/",
          "height": 139
        },
        "id": "LprsJdjfBksd",
        "outputId": "7e36998b-0599-43df-b6cc-2482d32a5c9f"
      },
      "execution_count": null,
      "outputs": [
        {
          "output_type": "stream",
          "name": "stdout",
          "text": [
            "models/gemini-1.0-pro\n",
            "models/gemini-1.0-pro-001\n",
            "models/gemini-1.0-pro-latest\n",
            "models/gemini-1.0-pro-vision-latest\n",
            "models/gemini-1.5-pro-latest\n",
            "models/gemini-pro\n",
            "models/gemini-pro-vision\n"
          ]
        }
      ]
    },
    {
      "cell_type": "markdown",
      "source": [
        "Configuraçoes de geração do texto (nesse caso o tipo de aleatoriedade dele)"
      ],
      "metadata": {
        "id": "t6AGOs42FHbe"
      }
    },
    {
      "cell_type": "code",
      "source": [
        "generation_config = {\n",
        "    'candidate_count': 1,\n",
        "    'temperature': 0.5,\n",
        "}"
      ],
      "metadata": {
        "id": "sZvnEB9iDWnH"
      },
      "execution_count": null,
      "outputs": []
    },
    {
      "cell_type": "markdown",
      "source": [
        "configuração de segurança (aqui é para ele não ignorar nenhum tipo de coisa)"
      ],
      "metadata": {
        "id": "Gwc5SOWxFZAW"
      }
    },
    {
      "cell_type": "code",
      "source": [
        "safety_settings = {\n",
        "    'HARASSMENT': 'BLOCK_NONE',\n",
        "    'HATE': 'BLOCK_NONE',\n",
        "    'SEXUAL': 'BLOCK_NONE',\n",
        "    'DANGEROUS': 'BLOCK_NONE',\n",
        "}"
      ],
      "metadata": {
        "id": "PWyasSJBEFCX"
      },
      "execution_count": null,
      "outputs": []
    },
    {
      "cell_type": "markdown",
      "source": [
        "inicializando o modelo"
      ],
      "metadata": {
        "id": "Qo76ErU3FwM_"
      }
    },
    {
      "cell_type": "code",
      "source": [
        "model = genai.GenerativeModel(model_name='gemini-1.0-pro',\n",
        "                              generation_config=generation_config,\n",
        "                              safety_settings=safety_settings)"
      ],
      "metadata": {
        "id": "LvltLLHDFyb9"
      },
      "execution_count": null,
      "outputs": []
    },
    {
      "cell_type": "markdown",
      "source": [
        "\n",
        "Testando se ele ta funcionando"
      ],
      "metadata": {
        "id": "TEKsWbEKOmTO"
      }
    },
    {
      "cell_type": "code",
      "source": [
        "response = model.generate_content(\"escreva uma historia de um garoto que queria andar de bicicleta\")\n",
        "print(response.text)"
      ],
      "metadata": {
        "colab": {
          "base_uri": "https://localhost:8080/",
          "height": 402
        },
        "id": "HlkE6uqpGlMO",
        "outputId": "0ecafebd-8eb0-4b6c-e29a-2627df9bc0f7"
      },
      "execution_count": null,
      "outputs": [
        {
          "output_type": "stream",
          "name": "stdout",
          "text": [
            "Nas ruas movimentadas de uma pequena cidade, vivia um garoto chamado Billy, cujo coração ansiava por um passeio de bicicleta. Ele observava com inveja as crianças do bairro deslizando sem esforço pelas calçadas, o vento soprando em seus cabelos.\n",
            "\n",
            "Billy não tinha uma bicicleta própria, mas seu desejo ardia dentro dele. Ele passava horas sonhando com o dia em que finalmente poderia experimentar a liberdade de pedalar.\n",
            "\n",
            "Um dia, enquanto passeava pelo parque, Billy notou um grupo de crianças brincando com suas bicicletas. Ele ficou parado, observando-as com olhos brilhantes. Uma das crianças, uma garotinha chamada Lily, notou o olhar de Billy.\n",
            "\n",
            "\"Você gostaria de tentar?\", perguntou ela, estendendo sua bicicleta.\n",
            "\n",
            "Billy ficou surpreso e animado. Ele nunca tinha andado de bicicleta antes, mas estava ansioso para tentar. Com a ajuda de Lily, ele subiu na bicicleta e começou a pedalar.\n",
            "\n",
            "No início, ele cambaleou e quase caiu, mas Lily segurou sua bicicleta e o encorajou a continuar. Pouco a pouco, Billy ganhou confiança e começou a pedalar com mais facilidade.\n",
            "\n",
            "Ele sentiu uma onda de emoção enquanto o vento acariciava seu rosto e as rodas giravam sob seus pés. Ele pedalou ao redor do parque, rindo e se sentindo livre.\n",
            "\n",
            "Quando chegou a hora de devolver a bicicleta, Billy ficou triste. Ele agradeceu a Lily e prometeu que um dia teria sua própria bicicleta.\n",
            "\n",
            "A partir daquele dia, Billy economizou cada centavo que ganhava. Ele fazia tarefas para os vizinhos e vendia limonada na rua. Finalmente, depois de meses de economia, ele tinha dinheiro suficiente para comprar uma bicicleta.\n",
            "\n",
            "No dia em que trouxe sua bicicleta para casa, Billy não conseguia conter sua alegria. Ele passou horas pedalando pelas ruas, explorando sua cidade e sentindo a liberdade que tanto havia desejado.\n",
            "\n",
            "E assim, o garoto que uma vez sonhava em andar de bicicleta tornou-se um ciclista confiante, desfrutando do prazer de pedalar e da emoção do vento em seu cabelo.\n"
          ]
        }
      ]
    },
    {
      "cell_type": "markdown",
      "source": [
        "serve para o chat guardar os prompts no historico"
      ],
      "metadata": {
        "id": "YWhRXYiOOase"
      }
    },
    {
      "cell_type": "code",
      "source": [
        "chat = model.start_chat(history=[])"
      ],
      "metadata": {
        "id": "cv8CymLTHDuv"
      },
      "execution_count": null,
      "outputs": []
    },
    {
      "cell_type": "markdown",
      "source": [
        "modelo para receber um input, responder ele e pedir mais um input depois...\n",
        "tudo isso enquando nao receber um input fim"
      ],
      "metadata": {
        "id": "eHjg6velK16e"
      }
    },
    {
      "cell_type": "code",
      "source": [
        "prompt = input('Esperando prompt: ')\n",
        "\n",
        "while prompt != 'fim':\n",
        "  response = chat.send_message(prompt)\n",
        "  print('Resposta: ', response.text, '\\n')\n",
        "  prompt = input('Esperando prompt: ')\n"
      ],
      "metadata": {
        "colab": {
          "base_uri": "https://localhost:8080/",
          "height": 139
        },
        "id": "NN37CjZRHliw",
        "outputId": "a2b1d27f-dee3-4624-c759-9f659c68ad74"
      },
      "execution_count": null,
      "outputs": [
        {
          "name": "stdout",
          "output_type": "stream",
          "text": [
            "Esperando prompt: onde fica a região mais populosa de Porto rico?\n",
            "Resposta:  Região Metropolitana de San Juan \n",
            "\n",
            "Esperando prompt: quem foi o fundador desse lugar?\n",
            "Resposta:  Juan Ponce de León \n",
            "\n",
            "Esperando prompt: fim\n"
          ]
        }
      ]
    },
    {
      "cell_type": "markdown",
      "source": [
        "Melhorando a visibilidade do Xet"
      ],
      "metadata": {
        "id": "N2pD0HePKOdc"
      }
    },
    {
      "cell_type": "code",
      "source": [
        "import textwrap\n",
        "from IPython.display import display\n",
        "from IPython.display import Markdown\n",
        "\n",
        "# formatação do texto\n",
        "def to_markdown(text):\n",
        "  text = text.replace('•', ' *')\n",
        "  return Markdown(textwrap.indent(text, '> ', predicate=lambda _: True))\n",
        "\n",
        "#imprimindo o histórico\n",
        "for messege in chat.history:\n",
        "  display(to_markdown(f'**{messege.role}**: {messege.parts[0].text}'))\n",
        "  print('-----------------------------------------------')"
      ],
      "metadata": {
        "colab": {
          "base_uri": "https://localhost:8080/",
          "height": 519
        },
        "id": "c3Hwu-EBKE1u",
        "outputId": "7d034ca9-7448-4820-d3ba-e196942e0077"
      },
      "execution_count": null,
      "outputs": [
        {
          "output_type": "display_data",
          "data": {
            "text/plain": [
              "<IPython.core.display.Markdown object>"
            ],
            "text/markdown": "> **user**: qual a maior cidade do mundo?"
          },
          "metadata": {}
        },
        {
          "output_type": "stream",
          "name": "stdout",
          "text": [
            "-----------------------------------------------\n"
          ]
        },
        {
          "output_type": "display_data",
          "data": {
            "text/plain": [
              "<IPython.core.display.Markdown object>"
            ],
            "text/markdown": "> **model**: Tóquio"
          },
          "metadata": {}
        },
        {
          "output_type": "stream",
          "name": "stdout",
          "text": [
            "-----------------------------------------------\n"
          ]
        },
        {
          "output_type": "display_data",
          "data": {
            "text/plain": [
              "<IPython.core.display.Markdown object>"
            ],
            "text/markdown": "> **user**: qual o maior estado do mundo?"
          },
          "metadata": {}
        },
        {
          "output_type": "stream",
          "name": "stdout",
          "text": [
            "-----------------------------------------------\n"
          ]
        },
        {
          "output_type": "display_data",
          "data": {
            "text/plain": [
              "<IPython.core.display.Markdown object>"
            ],
            "text/markdown": "> **model**: Sacristão"
          },
          "metadata": {}
        },
        {
          "output_type": "stream",
          "name": "stdout",
          "text": [
            "-----------------------------------------------\n"
          ]
        },
        {
          "output_type": "display_data",
          "data": {
            "text/plain": [
              "<IPython.core.display.Markdown object>"
            ],
            "text/markdown": "> **user**: onde fica a região mais populosa de Porto rico?"
          },
          "metadata": {}
        },
        {
          "output_type": "stream",
          "name": "stdout",
          "text": [
            "-----------------------------------------------\n"
          ]
        },
        {
          "output_type": "display_data",
          "data": {
            "text/plain": [
              "<IPython.core.display.Markdown object>"
            ],
            "text/markdown": "> **model**: Região Metropolitana de San Juan"
          },
          "metadata": {}
        },
        {
          "output_type": "stream",
          "name": "stdout",
          "text": [
            "-----------------------------------------------\n"
          ]
        },
        {
          "output_type": "display_data",
          "data": {
            "text/plain": [
              "<IPython.core.display.Markdown object>"
            ],
            "text/markdown": "> **user**: quem foi o fundador desse lugar?"
          },
          "metadata": {}
        },
        {
          "output_type": "stream",
          "name": "stdout",
          "text": [
            "-----------------------------------------------\n"
          ]
        },
        {
          "output_type": "display_data",
          "data": {
            "text/plain": [
              "<IPython.core.display.Markdown object>"
            ],
            "text/markdown": "> **model**: Juan Ponce de León"
          },
          "metadata": {}
        },
        {
          "output_type": "stream",
          "name": "stdout",
          "text": [
            "-----------------------------------------------\n"
          ]
        }
      ]
    }
  ]
}